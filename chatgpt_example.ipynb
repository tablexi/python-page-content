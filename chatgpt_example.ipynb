{
  "nbformat": 4,
  "nbformat_minor": 0,
  "metadata": {
    "colab": {
      "provenance": [],
      "authorship_tag": "ABX9TyNxkI89R4tCbCHYbtQTE3PA",
      "include_colab_link": true
    },
    "kernelspec": {
      "name": "python3",
      "display_name": "Python 3"
    },
    "language_info": {
      "name": "python"
    }
  },
  "cells": [
    {
      "cell_type": "markdown",
      "metadata": {
        "id": "view-in-github",
        "colab_type": "text"
      },
      "source": [
        "<a href=\"https://colab.research.google.com/gist/urfolomeus/3b095eeaa3797277ea781f094b55cc7c/chat.ipynb\" target=\"_parent\"><img src=\"https://colab.research.google.com/assets/colab-badge.svg\" alt=\"Open In Colab\"/></a>"
      ]
    },
    {
      "cell_type": "markdown",
      "source": [
        "# Simple OpenAI example\n",
        "\n",
        "The code below uses the [OpenAI python library](https://pypi.org/project/openai/) to generate a simple text introduction for a Dungeons & Dragons adventure. The user is prompted to supply a topic, i.e. \"goblin bandits\", and then we use a version of the Da Vinci model to generate some flavour text for us."
      ],
      "metadata": {
        "id": "O9q4LIYbv8A3"
      }
    },
    {
      "cell_type": "markdown",
      "source": [
        "## Installing prerequisites\n",
        "\n",
        "We start by installing the openai library using the Pip tool. In a Notebook environment like this one, we need to prefix the command with a `!` so that it will be run as a shell command on the underlying server."
      ],
      "metadata": {
        "id": "vXBFys3uwnDQ"
      }
    },
    {
      "cell_type": "code",
      "source": [
        "!pip install openai"
      ],
      "metadata": {
        "colab": {
          "base_uri": "https://localhost:8080/"
        },
        "id": "45vUdEEkGPhn",
        "outputId": "8e8b79a8-28b2-423b-f0de-0194f081be58"
      },
      "execution_count": 1,
      "outputs": [
        {
          "output_type": "stream",
          "name": "stdout",
          "text": [
            "Looking in indexes: https://pypi.org/simple, https://us-python.pkg.dev/colab-wheels/public/simple/\n",
            "Collecting openai\n",
            "  Downloading openai-0.27.4-py3-none-any.whl (70 kB)\n",
            "\u001b[2K     \u001b[90m━━━━━━━━━━━━━━━━━━━━━━━━━━━━━━━━━━━━━━━━\u001b[0m \u001b[32m70.3/70.3 kB\u001b[0m \u001b[31m2.3 MB/s\u001b[0m eta \u001b[36m0:00:00\u001b[0m\n",
            "\u001b[?25hRequirement already satisfied: requests>=2.20 in /usr/local/lib/python3.9/dist-packages (from openai) (2.27.1)\n",
            "Collecting aiohttp\n",
            "  Downloading aiohttp-3.8.4-cp39-cp39-manylinux_2_17_x86_64.manylinux2014_x86_64.whl (1.0 MB)\n",
            "\u001b[2K     \u001b[90m━━━━━━━━━━━━━━━━━━━━━━━━━━━━━━━━━━━━━━━━\u001b[0m \u001b[32m1.0/1.0 MB\u001b[0m \u001b[31m13.6 MB/s\u001b[0m eta \u001b[36m0:00:00\u001b[0m\n",
            "\u001b[?25hRequirement already satisfied: tqdm in /usr/local/lib/python3.9/dist-packages (from openai) (4.65.0)\n",
            "Requirement already satisfied: charset-normalizer~=2.0.0 in /usr/local/lib/python3.9/dist-packages (from requests>=2.20->openai) (2.0.12)\n",
            "Requirement already satisfied: certifi>=2017.4.17 in /usr/local/lib/python3.9/dist-packages (from requests>=2.20->openai) (2022.12.7)\n",
            "Requirement already satisfied: idna<4,>=2.5 in /usr/local/lib/python3.9/dist-packages (from requests>=2.20->openai) (3.4)\n",
            "Requirement already satisfied: urllib3<1.27,>=1.21.1 in /usr/local/lib/python3.9/dist-packages (from requests>=2.20->openai) (1.26.15)\n",
            "Collecting aiosignal>=1.1.2\n",
            "  Downloading aiosignal-1.3.1-py3-none-any.whl (7.6 kB)\n",
            "Collecting async-timeout<5.0,>=4.0.0a3\n",
            "  Downloading async_timeout-4.0.2-py3-none-any.whl (5.8 kB)\n",
            "Collecting yarl<2.0,>=1.0\n",
            "  Downloading yarl-1.8.2-cp39-cp39-manylinux_2_17_x86_64.manylinux2014_x86_64.whl (264 kB)\n",
            "\u001b[2K     \u001b[90m━━━━━━━━━━━━━━━━━━━━━━━━━━━━━━━━━━━━━━\u001b[0m \u001b[32m264.6/264.6 kB\u001b[0m \u001b[31m11.2 MB/s\u001b[0m eta \u001b[36m0:00:00\u001b[0m\n",
            "\u001b[?25hCollecting multidict<7.0,>=4.5\n",
            "  Downloading multidict-6.0.4-cp39-cp39-manylinux_2_17_x86_64.manylinux2014_x86_64.whl (114 kB)\n",
            "\u001b[2K     \u001b[90m━━━━━━━━━━━━━━━━━━━━━━━━━━━━━━━━━━━━━━━\u001b[0m \u001b[32m114.2/114.2 kB\u001b[0m \u001b[31m3.2 MB/s\u001b[0m eta \u001b[36m0:00:00\u001b[0m\n",
            "\u001b[?25hCollecting frozenlist>=1.1.1\n",
            "  Downloading frozenlist-1.3.3-cp39-cp39-manylinux_2_5_x86_64.manylinux1_x86_64.manylinux_2_17_x86_64.manylinux2014_x86_64.whl (158 kB)\n",
            "\u001b[2K     \u001b[90m━━━━━━━━━━━━━━━━━━━━━━━━━━━━━━━━━━━━━━\u001b[0m \u001b[32m158.8/158.8 kB\u001b[0m \u001b[31m10.2 MB/s\u001b[0m eta \u001b[36m0:00:00\u001b[0m\n",
            "\u001b[?25hRequirement already satisfied: attrs>=17.3.0 in /usr/local/lib/python3.9/dist-packages (from aiohttp->openai) (22.2.0)\n",
            "Installing collected packages: multidict, frozenlist, async-timeout, yarl, aiosignal, aiohttp, openai\n",
            "Successfully installed aiohttp-3.8.4 aiosignal-1.3.1 async-timeout-4.0.2 frozenlist-1.3.3 multidict-6.0.4 openai-0.27.4 yarl-1.8.2\n"
          ]
        }
      ]
    },
    {
      "cell_type": "markdown",
      "source": [
        "## Some set up\n",
        "\n",
        "In order to be able to use the OpenAI API, which the library uses under the hood, we need to [sign up for an OpenAI account and generate an API key](https://platform.openai.com/docs/api-reference/authentication). Once we have the key, we can paste it in the code block below. Without a valid key, we will not be able to run the code."
      ],
      "metadata": {
        "id": "83BjC5xjw694"
      }
    },
    {
      "cell_type": "code",
      "source": [
        "OPENAI_API_KEY = \"YOUR OPEN AI KEY HERE\""
      ],
      "metadata": {
        "id": "jaovtV6QGUJT"
      },
      "execution_count": 7,
      "outputs": []
    },
    {
      "cell_type": "markdown",
      "source": [
        "Next we need to import the openai package and some other packages from the  Python standard library."
      ],
      "metadata": {
        "id": "z-IgAGHfxekQ"
      }
    },
    {
      "cell_type": "code",
      "execution_count": 3,
      "metadata": {
        "id": "pkPtX5nrGLcW"
      },
      "outputs": [],
      "source": [
        "import os\n",
        "import openai\n",
        "import pprint"
      ]
    },
    {
      "cell_type": "markdown",
      "source": [
        "We'll use the Python `PrettyPrinter` library to make it a little easier to read the output from the model."
      ],
      "metadata": {
        "id": "PMwgcDOGxuTp"
      }
    },
    {
      "cell_type": "code",
      "source": [
        "pp = pprint.PrettyPrinter(indent=2)"
      ],
      "metadata": {
        "id": "Hrn-4eYOGrI4"
      },
      "execution_count": 4,
      "outputs": []
    },
    {
      "cell_type": "markdown",
      "source": [
        "Now we can prompt the user for an adventure topic..."
      ],
      "metadata": {
        "id": "zVf0C3Imx3uu"
      }
    },
    {
      "cell_type": "code",
      "source": [
        "topic = input(\"Enter adventure topic: \")"
      ],
      "metadata": {
        "colab": {
          "base_uri": "https://localhost:8080/"
        },
        "id": "B9Dzn_EHHVto",
        "outputId": "b4ecc6ff-f050-42aa-e556-0e8cac87bf22"
      },
      "execution_count": 5,
      "outputs": [
        {
          "name": "stdout",
          "output_type": "stream",
          "text": [
            "Enter adventure topic: goblin bandits\n"
          ]
        }
      ]
    },
    {
      "cell_type": "markdown",
      "source": [
        "... and then use that input to generate our flavor text"
      ],
      "metadata": {
        "id": "Q9RiBg2qyA2Z"
      }
    },
    {
      "cell_type": "code",
      "source": [
        "openai.api_key = OPENAI_API_KEY\n",
        "\n",
        "response = openai.Completion.create(\n",
        "  model=\"text-davinci-003\",\n",
        "  prompt=f\"Topic: {topic}\\nDungeons and dragons adventure:\",\n",
        "  temperature=0.8,\n",
        "  max_tokens=100,\n",
        "  top_p=1,\n",
        "  frequency_penalty=0.5,\n",
        "  presence_penalty=0\n",
        ")\n",
        "\n",
        "pp.pprint(response.choices[0].text)"
      ],
      "metadata": {
        "colab": {
          "base_uri": "https://localhost:8080/"
        },
        "id": "fvobxpV4yIoU",
        "outputId": "d58a1b4d-dd91-4c42-a20b-ab91effc57a2"
      },
      "execution_count": 8,
      "outputs": [
        {
          "output_type": "stream",
          "name": "stdout",
          "text": [
            "('\\n'\n",
            " '\\n'\n",
            " 'The adventurers are tasked with eliminating a group of goblin bandits that '\n",
            " 'have been terrorizing the countryside. The goblins have taken up residence '\n",
            " 'in a nearby cave, and the adventurers must brave its depths to defeat them.\\n'\n",
            " '\\n'\n",
            " 'Upon arriving at the cave, the adventurers find that the goblins have '\n",
            " 'booby-trapped its entrance with various traps. After making their way past '\n",
            " 'these obstacles, they find themselves deep within the cave complex. \\n'\n",
            " '\\n'\n",
            " 'The adventurers soon come across a large chamber filled with goblins')\n"
          ]
        }
      ]
    }
  ]
}
